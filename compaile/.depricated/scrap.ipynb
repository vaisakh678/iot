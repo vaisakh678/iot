{
 "cells": [
  {
   "cell_type": "code",
   "execution_count": 51,
   "metadata": {},
   "outputs": [],
   "source": [
    "from selenium import webdriver\n",
    "from selenium.webdriver.common.action_chains import ActionChains\n",
    "from selenium.webdriver.common.keys import Keys\n",
    "from time import sleep\n",
    "from urlextract import URLExtract"
   ]
  },
  {
   "cell_type": "code",
   "execution_count": 52,
   "metadata": {},
   "outputs": [],
   "source": [
    "links = open(\"links.txt\", \"r\").read()\n",
    "ext = URLExtract()\n",
    "links = ext.find_urls(links)"
   ]
  },
  {
   "cell_type": "code",
   "execution_count": 53,
   "metadata": {},
   "outputs": [],
   "source": [
    "link = \"https://www.tinkercad.com/login\"\n",
    "driver = webdriver.Chrome()\n",
    "driver.get(link)"
   ]
  },
  {
   "attachments": {},
   "cell_type": "markdown",
   "metadata": {},
   "source": [
    "# auth"
   ]
  },
  {
   "cell_type": "code",
   "execution_count": 55,
   "metadata": {},
   "outputs": [],
   "source": [
    "while(driver.current_url !='https://www.tinkercad.com/dashboard'):\n",
    "    sleep(1)"
   ]
  },
  {
   "cell_type": "code",
   "execution_count": 56,
   "metadata": {},
   "outputs": [],
   "source": [
    "def extract_circuit(link):\n",
    "    driver.get(link)\n",
    "    while not driver.execute_script(\"return !! document.querySelector('.sitemenu__title__span')\"):\n",
    "        sleep(2)\n",
    "    title = driver.execute_script(\"return document.querySelector('.sitemenu__title__span').innerHTML\")\n",
    "    driver.execute_script(\"localStorage.clear()\")\n",
    "    action = ActionChains(driver)\n",
    "    action.key_down(Keys.META).send_keys('a').key_up(Keys.META).perform() # select all -- cmt + a\n",
    "    action.key_down(Keys.META).send_keys('c').key_up(Keys.META).perform() # copy selected -- cmt + c\n",
    "    circuit = driver.execute_script(\"return localStorage.getItem('circuitClipboard')\")\n",
    "    driver.execute_script(\"localStorage.clear()\")\n",
    "    return {\n",
    "        \"circuit\": circuit,\n",
    "        \"title\": title\n",
    "    }"
   ]
  },
  {
   "cell_type": "code",
   "execution_count": 57,
   "metadata": {},
   "outputs": [
    {
     "name": "stdout",
     "output_type": "stream",
     "text": [
      "Gas Sensor\n",
      "LCD\n",
      "Voltage Meter\n",
      "Soil Erosion\n",
      "Infrared sensor - button print\n",
      "Infrared sensor LED ON-OFF\n",
      "Infrared sensor - LED brightness control\n",
      "Motion Sensor\n",
      "Motion Sensor DC Motor\n",
      "LED Distance Sensor\n",
      "Piezo Distance Sensor\n",
      "DC Motor Distance sensor\n",
      "Temperature Sensor DC Motor\n"
     ]
    }
   ],
   "source": [
    "path = \"/Users/vaisakh/programs/iot/compailer/circuits\"\n",
    "for link in links:\n",
    "    res = extract_circuit(link)\n",
    "    circuit  = res[\"circuit\"]\n",
    "    title = res[\"title\"].replace(\"/\", \"-\")\n",
    "    print(title)\n",
    "    open(f\"{path}/{title}.txt\", \"w\").write(circuit)"
   ]
  },
  {
   "cell_type": "code",
   "execution_count": null,
   "metadata": {},
   "outputs": [],
   "source": [
    "driver.quit()"
   ]
  },
  {
   "cell_type": "code",
   "execution_count": null,
   "metadata": {},
   "outputs": [],
   "source": []
  },
  {
   "cell_type": "code",
   "execution_count": null,
   "metadata": {},
   "outputs": [],
   "source": []
  }
 ],
 "metadata": {
  "kernelspec": {
   "display_name": "base",
   "language": "python",
   "name": "python3"
  },
  "language_info": {
   "codemirror_mode": {
    "name": "ipython",
    "version": 3
   },
   "file_extension": ".py",
   "mimetype": "text/x-python",
   "name": "python",
   "nbconvert_exporter": "python",
   "pygments_lexer": "ipython3",
   "version": "3.10.8 | packaged by conda-forge | (main, Nov 22 2022, 08:25:29) [Clang 14.0.6 ]"
  },
  "orig_nbformat": 4,
  "vscode": {
   "interpreter": {
    "hash": "e54217f9e10c9c2ab2c5acb791143dc555f80e81eec2f2e8946a5b329595e68c"
   }
  }
 },
 "nbformat": 4,
 "nbformat_minor": 2
}
